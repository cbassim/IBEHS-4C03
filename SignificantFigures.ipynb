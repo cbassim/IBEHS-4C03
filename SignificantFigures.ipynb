{
 "cells": [
  {
   "cell_type": "markdown",
   "id": "f0199d62-8b5a-4c90-a35b-9c13fb599d63",
   "metadata": {},
   "source": [
    "## Rules for Reporting Significant Figures\n",
    "\n",
    "-- Nonzero digits always count as significant figures\n",
    "\n",
    "There are three situations in which zeros can occur.\n",
    "\n",
    "- leading zeros precede all nonzero digits and are never significant (i.e., 0.000182 has three sign. figs.)\n",
    "\n",
    "- captive zeros are between two nonzero digits and are always significant (i.e., 1008.02 has six sign. figs.)\n",
    "\n",
    "- trailing zeros are significant only if a number contains a decimal point (i.e., 1200 has two sign. figs. (but could mean 1200. which has 4 sign. fig);  1200.00 has six sign. figs.)\n",
    "\n",
    "Note here the advantage of using exponential (i.e., scientific) notation to clear up these\n",
    "ambiguities.  For a number in scientific notation: N x 10$^x$, all digits comprising N ARE significant by the first 6 rules; \"10\" and \"x\" are NOT significant. 5.02 x 10$^4$ has THREE significant figures: \"5.02.\" \"10 and \"4\" are not significant.  \n",
    "\n",
    "--  Exact numbers have no bearing on the number of significant figures in a calculated result.\n",
    "\n",
    "Examples of these are the following;\n",
    " conversion factors such as 1 L = 1000 mL\n",
    " numbers reflecting an exact count such as 8 stones or 16 people\n",
    " stoichiometry in chemical reactions involves exact numbers"
   ]
  },
  {
   "cell_type": "markdown",
   "id": "523efa90-a486-48f0-9437-e3320a1df0e2",
   "metadata": {},
   "source": [
    "## Operations\n",
    "\n",
    "-Rules for multiplication/division\n",
    "\n",
    "The answer has the same number of sign. figs. as the least precise measurement used in\n",
    "the calculation.\n",
    "\n",
    " 72.5674 six sign. figs \n",
    "x 3.34 three sign. figs (limiting term)\n",
    "\n",
    " 242.3751160 initial answer (must be rounded off to three sign. figs.)\n",
    " \n",
    " Final Answer = 2.42x102\n",
    " \n",
    "-Rules for addition/subtraction\n",
    "\n",
    "The answer has the same number of decimal places (last common value to the right of all components) as the least precise measurement used\n",
    "in the calculation.\n",
    "\n",
    " 456.367963 - 452.1 least number of decimal places (limiting term)\n",
    " \n",
    " \n",
    " 4.267963 initial answer (must be rounded off to one decimal place)\n",
    " \n",
    " Final Answer = 4.3 "
   ]
  },
  {
   "cell_type": "markdown",
   "id": "1dcaee7e-9e23-4c4f-8322-5c4ec3f2aae8",
   "metadata": {},
   "source": [
    "# Rounding\n",
    "\n",
    "One standard convention is round up if the first insignificant digit is greater than five and down if less than five.\n",
    "\n",
    "If the first insignificant digit is exactly five, round down and if there are any more insignificant digits round up:\n",
    "\n",
    "2.75 x 1.50 = 4.125 = 4.12\n",
    "\n",
    "36.8 / 4.571 = 7.745738 = 7.75"
   ]
  },
  {
   "cell_type": "markdown",
   "id": "1d47a5ca-7b89-4756-b74c-abcf78c7120c",
   "metadata": {},
   "source": [
    "# Using a Calculator and Carry Sign. Digits through before Rounding.\n",
    "\n",
    "In a long calculation using mixed operations, carry as many digits as possible through the entire set of calculations and then round the final result appropriately. Carrying all digits through to the final result before rounding is critical for many mathematical operations in statistics. "
   ]
  },
  {
   "cell_type": "markdown",
   "id": "3e441821-d857-44b5-9132-61a373b2a45e",
   "metadata": {},
   "source": [
    "# Statistics"
   ]
  },
  {
   "cell_type": "markdown",
   "id": "661a7087-1b98-4c76-a404-fab3cb1a2305",
   "metadata": {},
   "source": [
    "There are alot of problems on uncertainties and the propagation of errors in statistics.  Here is the Guide to the expression of uncertainty in meansurements: https://www.bipm.org/documents/20126/2071204/JCGM_100_2008_E.pdf/cb0ef43f-baa5-11cf-3f85-4dcd86f77bd6\n",
    "\n",
    "But we can review some considerations for the introduction to statistics:\n",
    "\n",
    "## Mean\n",
    "\n",
    "The mean cannot be more accurate than the original measurements, but we often provide one more significnat digits for the uncertainty consideration. For example, when\n",
    "averaging measurements with 3 digits after the decimal point the mean should have a\n",
    "maximum of 3 digits after the decimal point, but one scientific convention is to allow 4 digits.  \n",
    "\n",
    "Find the average and the average deviation of the following measurements of a mass.\n",
    "\n",
    "4.32, 4.35, 4.31, 4.36, 4.37, 4.34 grams.\n",
    "\n",
    "4.342 grams\n",
    "\n",
    "## Standard Deviation\n",
    "\n",
    "The standard deviation provides the measure of the uncertainty (variability) in the data, and is rounded to ~2 significant figures.  For the above data, the sample standard deviation deviation:  (4.342 +/- 0.023) grams.  The mean is then made consistent with the number of digits relative to the decimal point of the standard deviation."
   ]
  },
  {
   "cell_type": "code",
   "execution_count": null,
   "id": "d793a4eb-39f2-40f8-b2f3-5c431313f590",
   "metadata": {},
   "outputs": [],
   "source": []
  }
 ],
 "metadata": {
  "kernelspec": {
   "display_name": "Python 3 (ipykernel)",
   "language": "python",
   "name": "python3"
  },
  "language_info": {
   "codemirror_mode": {
    "name": "ipython",
    "version": 3
   },
   "file_extension": ".py",
   "mimetype": "text/x-python",
   "name": "python",
   "nbconvert_exporter": "python",
   "pygments_lexer": "ipython3",
   "version": "3.9.13"
  }
 },
 "nbformat": 4,
 "nbformat_minor": 5
}
